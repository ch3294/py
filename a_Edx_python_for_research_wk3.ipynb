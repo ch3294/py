{
 "cells": [
  {
   "cell_type": "markdown",
   "metadata": {},
   "source": [
    "## 3.1.1: Introduction to DNA Translation"
   ]
  },
  {
   "cell_type": "code",
   "execution_count": null,
   "metadata": {
    "collapsed": true
   },
   "outputs": [],
   "source": [
    "#DNA sequence of four letters -> amino acids\n",
    "#make sure your understand the problem before coding"
   ]
  },
  {
   "cell_type": "markdown",
   "metadata": {},
   "source": [
    "## 3.1.2: Downloading DNA Data"
   ]
  },
  {
   "cell_type": "code",
   "execution_count": null,
   "metadata": {
    "collapsed": true
   },
   "outputs": [],
   "source": [
    "#NCBI:\n",
    "#strand of DNA, correspond Protein"
   ]
  },
  {
   "cell_type": "markdown",
   "metadata": {},
   "source": [
    "## 3.1.3: Importing DNA Data Into Python"
   ]
  },
  {
   "cell_type": "code",
   "execution_count": null,
   "metadata": {
    "collapsed": true
   },
   "outputs": [],
   "source": [
    "#read the entire file or work with different line"
   ]
  },
  {
   "cell_type": "code",
   "execution_count": 25,
   "metadata": {},
   "outputs": [
    {
     "data": {
      "text/plain": [
       "'/Users/huangchenchen/Desktop/edx_python_research/Translation'"
      ]
     },
     "execution_count": 25,
     "metadata": {},
     "output_type": "execute_result"
    }
   ],
   "source": [
    "pwd"
   ]
  },
  {
   "cell_type": "code",
   "execution_count": 26,
   "metadata": {},
   "outputs": [
    {
     "data": {
      "text/plain": [
       "'GGTCAGAAAAAGCCCTCTCCATGTCTACTCACGATACATCCCTGAAAACCACTGAGGAAGTGGCTTTTCA\\nGATCATCTTGCTTTGCCAGTTTGGGGTTGGGACTTTTGCCAATGTATTTCTCTTTGTCTATAATTTCTCT\\nCCAATCTCGACTGGTTCTAAACAGAGGCCCAGACAAGTGATTTTAAGACACATGGCTGTGGCCAATGCCT\\nTAACTCTCTTCCTCACTATATTTCCAAACAACATGATGACTTTTGCTCCAATTATTCCTCAAACTGACCT\\nCAAATGTAAATTAGAATTCTTCACTCGCCTCGTGGCAAGAAGCACAAACTTGTGTTCAACTTGTGTTCTG\\nAGTATCCATCAGTTTGTCACACTTGTTCCTGTTAATTCAGGTAAAGGAATACTCAGAGCAAGTGTCACAA\\nACATGGCAAGTTATTCTTGTTACAGTTGTTGGTTCTTCAGTGTCTTAAATAACATCTACATTCCAATTAA\\nGGTCACTGGTCCACAGTTAACAGACAATAACAATAACTCTAAAAGCAAGTTGTTCTGTTCCACTTCTGAT\\nTTCAGTGTAGGCATTGTCTTCTTGAGGTTTGCCCATGATGCCACATTCATGAGCATCATGGTCTGGACCA\\nGTGTCTCCATGGTACTTCTCCTCCATAGACATTGTCAGAGAATGCAGTACATATTCACTCTCAATCAGGA\\nCCCCAGGGGCCAAGCAGAGACCACAGCAACCCATACTATCCTGATGCTGGTAGTCACATTTGTTGGCTTT\\nTATCTTCTAAGTCTTATTTGTATCATCTTTTACACCTATTTTATATATTCTCATCATTCCCTGAGGCATT\\nGCAATGACATTTTGGTTTCGGGTTTCCCTACAATTTCTCCTTTACTGTTGACCTTCAGAGACCCTAAGGG\\nTCCTTGTTCTGTGTTCTTCAACTGTTGAAAGCCAGAGTCACTAAAAATGCCAAACACAGAAGACAGCTTT\\nGCTAATACCATTAAATACTTTATTCCATAAATATGTTTTTAAAAGCTTGTATGAACAAGGTATGGTGCTC\\nACTGCTATACTTATAAAAGAGTAAGGTTATAATCACTTGTTGATATGAAAAGATTTCTGGTTGGAATCTG\\nATTGAAACAGTGAGTTATTCACCACCCTCCATTCTCT\\n'"
      ]
     },
     "execution_count": 26,
     "metadata": {},
     "output_type": "execute_result"
    }
   ],
   "source": [
    "inputfile='dna.txt'\n",
    "f=open(inputfile,'r')\n",
    "seq=f.read()\n",
    "seq #backslash n is another paragraph\n",
    "#print(seq)"
   ]
  },
  {
   "cell_type": "code",
   "execution_count": 28,
   "metadata": {
    "collapsed": true
   },
   "outputs": [],
   "source": [
    "inputfile='dna.txt'\n",
    "with open(inputfile,'r') as f:\n",
    "    seq=f.read()"
   ]
  },
  {
   "cell_type": "code",
   "execution_count": 29,
   "metadata": {},
   "outputs": [
    {
     "data": {
      "text/plain": [
       "'GGTCAGAAAAAGCCCTCTCCATGTCTACTCACGATACATCCCTGAAAACCACTGAGGAAGTGGCTTTTCAGATCATCTTGCTTTGCCAGTTTGGGGTTGGGACTTTTGCCAATGTATTTCTCTTTGTCTATAATTTCTCTCCAATCTCGACTGGTTCTAAACAGAGGCCCAGACAAGTGATTTTAAGACACATGGCTGTGGCCAATGCCTTAACTCTCTTCCTCACTATATTTCCAAACAACATGATGACTTTTGCTCCAATTATTCCTCAAACTGACCTCAAATGTAAATTAGAATTCTTCACTCGCCTCGTGGCAAGAAGCACAAACTTGTGTTCAACTTGTGTTCTGAGTATCCATCAGTTTGTCACACTTGTTCCTGTTAATTCAGGTAAAGGAATACTCAGAGCAAGTGTCACAAACATGGCAAGTTATTCTTGTTACAGTTGTTGGTTCTTCAGTGTCTTAAATAACATCTACATTCCAATTAAGGTCACTGGTCCACAGTTAACAGACAATAACAATAACTCTAAAAGCAAGTTGTTCTGTTCCACTTCTGATTTCAGTGTAGGCATTGTCTTCTTGAGGTTTGCCCATGATGCCACATTCATGAGCATCATGGTCTGGACCAGTGTCTCCATGGTACTTCTCCTCCATAGACATTGTCAGAGAATGCAGTACATATTCACTCTCAATCAGGACCCCAGGGGCCAAGCAGAGACCACAGCAACCCATACTATCCTGATGCTGGTAGTCACATTTGTTGGCTTTTATCTTCTAAGTCTTATTTGTATCATCTTTTACACCTATTTTATATATTCTCATCATTCCCTGAGGCATTGCAATGACATTTTGGTTTCGGGTTTCCCTACAATTTCTCCTTTACTGTTGACCTTCAGAGACCCTAAGGGTCCTTGTTCTGTGTTCTTCAACTGTTGAAAGCCAGAGTCACTAAAAATGCCAAACACAGAAGACAGCTTTGCTAATACCATTAAATACTTTATTCCATAAATATGTTTTTAAAAGCTTGTATGAACAAGGTATGGTGCTCACTGCTATACTTATAAAAGAGTAAGGTTATAATCACTTGTTGATATGAAAAGATTTCTGGTTGGAATCTGATTGAAACAGTGAGTTATTCACCACCCTCCATTCTCT'"
      ]
     },
     "execution_count": 29,
     "metadata": {},
     "output_type": "execute_result"
    }
   ],
   "source": [
    "#remove extra characters\n",
    "seq=seq.replace('\\n','')\n",
    "#extra step to deal with another possible characters\n",
    "seq=seq.replace('\\r','')\n",
    "seq"
   ]
  },
  {
   "cell_type": "markdown",
   "metadata": {},
   "source": [
    "## 3.1.4: Translating the DNA Sequence"
   ]
  },
  {
   "cell_type": "code",
   "execution_count": 20,
   "metadata": {},
   "outputs": [
    {
     "data": {
      "text/plain": [
       "0"
      ]
     },
     "execution_count": 20,
     "metadata": {},
     "output_type": "execute_result"
    }
   ],
   "source": [
    "#check that the sequence lenght is divisible by 3\n",
    "6%3 #operator module\n",
    "    #loop over the sequence\n",
    "     #extrect a signle condon\n",
    "     #look up the condon and store the result"
   ]
  },
  {
   "cell_type": "code",
   "execution_count": 30,
   "metadata": {},
   "outputs": [
    {
     "data": {
      "text/plain": [
       "''"
      ]
     },
     "execution_count": 30,
     "metadata": {},
     "output_type": "execute_result"
    }
   ],
   "source": [
    "# table content, dictionary\n",
    "def translate(seq):\n",
    "    \"\"\"translating a string containing a nucleotide sequence into s string\n",
    "    containing the corresponding sequence of amino acids. NUcleotides are \n",
    "    translated in triplets using the table dictionary;each amino acid\n",
    "    is encoded with a string of length 1\"\"\"\n",
    "    table = {\n",
    "        'ATA':'I', 'ATC':'I', 'ATT':'I', 'ATG':'M',\n",
    "        'ACA':'T', 'ACC':'T', 'ACG':'T', 'ACT':'T',\n",
    "        'AAC':'N', 'AAT':'N', 'AAA':'K', 'AAG':'K',\n",
    "        'AGC':'S', 'AGT':'S', 'AGA':'R', 'AGG':'R',\n",
    "        'CTA':'L', 'CTC':'L', 'CTG':'L', 'CTT':'L',\n",
    "        'CCA':'P', 'CCC':'P', 'CCG':'P', 'CCT':'P',\n",
    "        'CAC':'H', 'CAT':'H', 'CAA':'Q', 'CAG':'Q',\n",
    "        'CGA':'R', 'CGC':'R', 'CGG':'R', 'CGT':'R',\n",
    "        'GTA':'V', 'GTC':'V', 'GTG':'V', 'GTT':'V',\n",
    "        'GCA':'A', 'GCC':'A', 'GCG':'A', 'GCT':'A',\n",
    "        'GAC':'D', 'GAT':'D', 'GAA':'E', 'GAG':'E',\n",
    "        'GGA':'G', 'GGC':'G', 'GGG':'G', 'GGT':'G',\n",
    "        'TCA':'S', 'TCC':'S', 'TCG':'S', 'TCT':'S',\n",
    "        'TTC':'F', 'TTT':'F', 'TTA':'L', 'TTG':'L',\n",
    "        'TAC':'Y', 'TAT':'Y', 'TAA':'_', 'TAG':'_',\n",
    "        'TGC':'C', 'TGT':'C', 'TGA':'_', 'TGG':'W',\n",
    "    }\n",
    "    protein=''\n",
    "    if len(seq)%3==0:\n",
    "        pass #the python require some statements here\n",
    "    #for s in seq:\n",
    "      #  print(s)\n",
    "    #string slicing:seq[0:3]\n",
    "        for i in range(0,len(seq),3): #the step is 3 here\n",
    "            codon=seq[i:i+3]\n",
    "            protein += table[codon]\n",
    "    return protein\n",
    "translate(seq)"
   ]
  },
  {
   "cell_type": "code",
   "execution_count": 31,
   "metadata": {},
   "outputs": [
    {
     "name": "stdout",
     "output_type": "stream",
     "text": [
      "Help on function translate in module __main__:\n",
      "\n",
      "translate(seq)\n",
      "    translating a string containing a nucleotide sequence into s string\n",
      "    containing the corresponding sequence of amino acids. NUcleotides are \n",
      "    translated in triplets using the table dictionary;each amino acid\n",
      "    is encoded with a string of length 1\n",
      "\n"
     ]
    }
   ],
   "source": [
    "#short docstring:give some explanation of the function\n",
    "help(translate)"
   ]
  },
  {
   "cell_type": "code",
   "execution_count": 36,
   "metadata": {},
   "outputs": [
    {
     "data": {
      "text/plain": [
       "8"
      ]
     },
     "execution_count": 36,
     "metadata": {},
     "output_type": "execute_result"
    }
   ],
   "source": [
    "138%13"
   ]
  },
  {
   "cell_type": "code",
   "execution_count": 32,
   "metadata": {},
   "outputs": [
    {
     "data": {
      "text/plain": [
       "'CCTGAAAACC'"
      ]
     },
     "execution_count": 32,
     "metadata": {},
     "output_type": "execute_result"
    }
   ],
   "source": [
    "seq[40:50]  #if something wrong with the open file, there will be error\n",
    "#build in function or method doesn't have the attribute"
   ]
  },
  {
   "cell_type": "markdown",
   "metadata": {},
   "source": [
    "## 3.1.5: Comparing Your Translation"
   ]
  },
  {
   "cell_type": "code",
   "execution_count": 33,
   "metadata": {},
   "outputs": [
    {
     "data": {
      "text/plain": [
       "'/Users/huangchenchen/Desktop/edx_python_research/Translation'"
      ]
     },
     "execution_count": 33,
     "metadata": {},
     "output_type": "execute_result"
    }
   ],
   "source": [
    "pwd"
   ]
  },
  {
   "cell_type": "code",
   "execution_count": 34,
   "metadata": {},
   "outputs": [
    {
     "data": {
      "text/plain": [
       "''"
      ]
     },
     "execution_count": 34,
     "metadata": {},
     "output_type": "execute_result"
    }
   ],
   "source": [
    "def read_seq(inputfile):\n",
    "    \"\"\"reads and returns the input sequence with special characters removed\"\"\"\n",
    "    with open(inputfile,'r') as f:\n",
    "        seq=f.read()\n",
    "    seq = seq.replace('\\n','')\n",
    "    seq = seq.replace('\\r','')\n",
    "    return seq\n",
    "prt=read_seq('protein.txt')\n",
    "dna=read_seq('dna.txt')\n",
    "translate(dna)"
   ]
  },
  {
   "cell_type": "code",
   "execution_count": 35,
   "metadata": {},
   "outputs": [
    {
     "data": {
      "text/plain": [
       "2"
      ]
     },
     "execution_count": 35,
     "metadata": {},
     "output_type": "execute_result"
    }
   ],
   "source": [
    "len(dna)%3 #there is reminder of the length\n",
    "#we should get the part of the sequence"
   ]
  },
  {
   "cell_type": "code",
   "execution_count": 37,
   "metadata": {},
   "outputs": [
    {
     "data": {
      "text/plain": [
       "'MSTHDTSLKTTEEVAFQIILLCQFGVGTFANVFLFVYNFSPISTGSKQRPRQVILRHMAVANALTLFLTIFPNNMMTFAPIIPQTDLKCKLEFFTRLVARSTNLCSTCVLSIHQFVTLVPVNSGKGILRASVTNMASYSCYSCWFFSVLNNIYIPIKVTGPQLTDNNNNSKSKLFCSTSDFSVGIVFLRFAHDATFMSIMVWTSVSMVLLLHRHCQRMQYIFTLNQDPRGQAETTATHTILMLVVTFVGFYLLSLICIIFYTYFIYSHHSLRHCNDILVSGFPTISPLLLTFRDPKGPCSVFFNC_'"
      ]
     },
     "execution_count": 37,
     "metadata": {},
     "output_type": "execute_result"
    }
   ],
   "source": [
    "translate(dna[20:938]) #end of the paragraph sign"
   ]
  },
  {
   "cell_type": "code",
   "execution_count": 38,
   "metadata": {},
   "outputs": [
    {
     "data": {
      "text/plain": [
       "'MSTHDTSLKTTEEVAFQIILLCQFGVGTFANVFLFVYNFSPISTGSKQRPRQVILRHMAVANALTLFLTIFPNNMMTFAPIIPQTDLKCKLEFFTRLVARSTNLCSTCVLSIHQFVTLVPVNSGKGILRASVTNMASYSCYSCWFFSVLNNIYIPIKVTGPQLTDNNNNSKSKLFCSTSDFSVGIVFLRFAHDATFMSIMVWTSVSMVLLLHRHCQRMQYIFTLNQDPRGQAETTATHTILMLVVTFVGFYLLSLICIIFYTYFIYSHHSLRHCNDILVSGFPTISPLLLTFRDPKGPCSVFFNC'"
      ]
     },
     "execution_count": 38,
     "metadata": {},
     "output_type": "execute_result"
    }
   ],
   "source": [
    "prt"
   ]
  },
  {
   "cell_type": "code",
   "execution_count": 39,
   "metadata": {},
   "outputs": [
    {
     "data": {
      "text/plain": [
       "'MSTHDTSLKTTEEVAFQIILLCQFGVGTFANVFLFVYNFSPISTGSKQRPRQVILRHMAVANALTLFLTIFPNNMMTFAPIIPQTDLKCKLEFFTRLVARSTNLCSTCVLSIHQFVTLVPVNSGKGILRASVTNMASYSCYSCWFFSVLNNIYIPIKVTGPQLTDNNNNSKSKLFCSTSDFSVGIVFLRFAHDATFMSIMVWTSVSMVLLLHRHCQRMQYIFTLNQDPRGQAETTATHTILMLVVTFVGFYLLSLICIIFYTYFIYSHHSLRHCNDILVSGFPTISPLLLTFRDPKGPCSVFFNC'"
      ]
     },
     "execution_count": 39,
     "metadata": {},
     "output_type": "execute_result"
    }
   ],
   "source": [
    "translate(dna[20:935]) #modify the stoping point"
   ]
  },
  {
   "cell_type": "code",
   "execution_count": 42,
   "metadata": {},
   "outputs": [
    {
     "data": {
      "text/plain": [
       "True"
      ]
     },
     "execution_count": 42,
     "metadata": {},
     "output_type": "execute_result"
    }
   ],
   "source": [
    "prt == translate(dna[20:935])"
   ]
  },
  {
   "cell_type": "code",
   "execution_count": 43,
   "metadata": {},
   "outputs": [
    {
     "data": {
      "text/plain": [
       "False"
      ]
     },
     "execution_count": 43,
     "metadata": {},
     "output_type": "execute_result"
    }
   ],
   "source": [
    "prt == translate(dna[20:935])[:-1] #get all characters exclude the last one"
   ]
  },
  {
   "cell_type": "code",
   "execution_count": null,
   "metadata": {
    "collapsed": true
   },
   "outputs": [],
   "source": [
    "#manually download DNA and protein sequence\n",
    "#import the data into python\n",
    "#create analgorithm to translate the DNA\n",
    "#check if translation matches your download."
   ]
  },
  {
   "cell_type": "markdown",
   "metadata": {},
   "source": [
    "## Homework for case study 1"
   ]
  },
  {
   "cell_type": "code",
   "execution_count": 69,
   "metadata": {},
   "outputs": [
    {
     "data": {
      "text/plain": [
       "' ijanzaobnfajtadbftbs'"
      ]
     },
     "execution_count": 69,
     "metadata": {},
     "output_type": "execute_result"
    }
   ],
   "source": [
    "#understanding the problem:\n",
    "#https://en.wikipedia.org/wiki/Caesar_cipher\n",
    "import string\n",
    "alphabet = ' ' + string.ascii_lowercase\n",
    "positions = {}\n",
    "index=0\n",
    "for letter in alphabet:\n",
    "    positions[letter]=index\n",
    "    index+=1\n",
    "message = \"hi my name is caesar\"\n",
    "l=[]\n",
    "for char in message:\n",
    "    l.append((positions[char]+1)%27)\n",
    "encoded_message=' '\n",
    "for i in l:\n",
    "    encoded_message += alphabet[i]\n",
    "encoded_message"
   ]
  },
  {
   "cell_type": "code",
   "execution_count": 77,
   "metadata": {},
   "outputs": [
    {
     "name": "stdout",
     "output_type": "stream",
     "text": [
      "klcpacqdphclvcfdhvdu\n",
      "hi my name is caesar\n"
     ]
    }
   ],
   "source": [
    "def encoding(message,key):\n",
    "    \"\"\"\n",
    "    This is a Caesar cipher.  Each letter in a message is shifted by a few\n",
    "    characters in the alphabet, and returned.\n",
    "\n",
    "    message:        A string you would like to encode or decode.  Must consist of\n",
    "                    lowercase letters and spaces.\n",
    "    key: An integer, indicating how many characters each letter in the\n",
    "                    message will be shifted.\n",
    "    \"\"\"\n",
    "    encoding_list=[]\n",
    "    for char in message:\n",
    "        encoded_position=(positions[char]+key)%27\n",
    "        encoding_list.append(alphabet[encoded_position])\n",
    "    encoded_message=''.join(encoding_list)\n",
    "    return encoded_message\n",
    "encoded_message=encoding(\"hi my name is caesar\",3)\n",
    "print(encoded_message)\n",
    "decoded_message = encoding(encoded_message,-3)\n",
    "print(decoded_message)  #return to the original message"
   ]
  },
  {
   "cell_type": "markdown",
   "metadata": {},
   "source": [
    "## 3.2.1: Introduction to Language Processing"
   ]
  },
  {
   "cell_type": "code",
   "execution_count": null,
   "metadata": {
    "collapsed": true
   },
   "outputs": [],
   "source": [
    "#python dictionary is a natural chocie to keep track with the words in the book\n",
    "#Project Gutenberg: An online repository of publically available books in many languages"
   ]
  },
  {
   "cell_type": "markdown",
   "metadata": {},
   "source": [
    "## 3.2.2: Counting Words"
   ]
  },
  {
   "cell_type": "code",
   "execution_count": 14,
   "metadata": {},
   "outputs": [
    {
     "name": "stdout",
     "output_type": "stream",
     "text": [
      "{'this': 2, 'is': 1, 'my': 1, 'test': 1, 'text': 2, 'were': 1, 'keeping': 1, 'short': 1, 'to': 1, 'keep': 1, 'things': 1, 'manageable': 1}\n"
     ]
    }
   ],
   "source": [
    "#first get a text string\n",
    "text=\"this is my test text. we're keeping this text short to keep things manageable\"\n",
    "def count_words(text):\n",
    "    \"\"\"count the number of times each word occurs in text(str). return dictionary where keys are unique words\n",
    "    and values are word counts\"\"\"\n",
    "    text=text.lower() #first capitalize the words to avoid double counting one word\n",
    "    skips=['.',',',';',':',\"'\",'\"']\n",
    "    for ch in skips:\n",
    "        text=text.replace(ch,\"\") #write your own counting routine\n",
    "        \n",
    "    word_counts={}\n",
    "    for word in text.split(\" \"):\n",
    "        #known word\n",
    "        if word in word_counts:\n",
    "            word_counts[word]+=1\n",
    "        #unknown word\n",
    "        else:\n",
    "            word_counts[word]=1\n",
    "    return word_counts\n",
    "print(count_words(text))"
   ]
  },
  {
   "cell_type": "code",
   "execution_count": 15,
   "metadata": {},
   "outputs": [
    {
     "data": {
      "text/plain": [
       "Counter({'is': 1,\n",
       "         'keep': 1,\n",
       "         'keeping': 1,\n",
       "         'manageable': 1,\n",
       "         'my': 1,\n",
       "         'short': 1,\n",
       "         'test': 1,\n",
       "         'text': 2,\n",
       "         'things': 1,\n",
       "         'this': 2,\n",
       "         'to': 1,\n",
       "         'were': 1})"
      ]
     },
     "execution_count": 15,
     "metadata": {},
     "output_type": "execute_result"
    }
   ],
   "source": [
    "#modify using counter function\n",
    "from collections import Counter\n",
    "def count_words_fast(text):\n",
    "    text=text.lower()\n",
    "    skips=['.',',',';',':',\"'\",'\"']\n",
    "    for ch in skips:\n",
    "        text=text.replace(ch,\"\")\n",
    "    \n",
    "    word_counts=Counter(text.split(' '))\n",
    "    return word_counts\n",
    "count_words_fast(text)  #return the subclass of a dictionary"
   ]
  },
  {
   "cell_type": "code",
   "execution_count": 16,
   "metadata": {},
   "outputs": [
    {
     "data": {
      "text/plain": [
       "True"
      ]
     },
     "execution_count": 16,
     "metadata": {},
     "output_type": "execute_result"
    }
   ],
   "source": [
    "count_words(text)==count_words_fast(text)"
   ]
  },
  {
   "cell_type": "code",
   "execution_count": 17,
   "metadata": {},
   "outputs": [
    {
     "data": {
      "text/plain": [
       "False"
      ]
     },
     "execution_count": 17,
     "metadata": {},
     "output_type": "execute_result"
    }
   ],
   "source": [
    "count_words(text) is count_words_fast(text)  #they are different objects in memory"
   ]
  },
  {
   "cell_type": "markdown",
   "metadata": {},
   "source": [
    "## 3.2.3: Reading in a Book"
   ]
  },
  {
   "cell_type": "code",
   "execution_count": 18,
   "metadata": {},
   "outputs": [
    {
     "data": {
      "text/plain": [
       "'/Users/huangchenchen'"
      ]
     },
     "execution_count": 18,
     "metadata": {},
     "output_type": "execute_result"
    }
   ],
   "source": [
    "pwd"
   ]
  },
  {
   "cell_type": "code",
   "execution_count": 19,
   "metadata": {
    "collapsed": true
   },
   "outputs": [],
   "source": [
    "#UTF-8 coding\n",
    "def read_book(title_path):\n",
    "    \"\"\"read a book and return it as string\"\"\"\n",
    "    with open(title_path,\"r\",encoding='utf8') as current_file:\n",
    "        text=current_file.read()\n",
    "        text=text.replace('\\n','').replace('\\r','')\n",
    "    return text\n",
    "text=read_book('/Users/huangchenchen/Desktop/edx_python_research/books/English/shakespeare/Romeo and Juliet.txt')\n"
   ]
  },
  {
   "cell_type": "code",
   "execution_count": 20,
   "metadata": {},
   "outputs": [
    {
     "name": "stdout",
     "output_type": "stream",
     "text": [
      "42757\n"
     ]
    },
    {
     "data": {
      "text/plain": [
       "\"What's in a name? That which we call a rose    By any other name would smell as sweet.    So Romeo w\""
      ]
     },
     "execution_count": 20,
     "metadata": {},
     "output_type": "execute_result"
    }
   ],
   "source": [
    "len(text)\n",
    "ind = text.find(\"What's in a name?\")\n",
    "print(ind)\n",
    "sample_text=text[ind:ind+100]\n",
    "sample_text"
   ]
  },
  {
   "cell_type": "code",
   "execution_count": 21,
   "metadata": {},
   "outputs": [
    {
     "data": {
      "text/plain": [
       "<module 'posixpath' from '/Applications/anaconda/lib/python3.6/posixpath.py'>"
      ]
     },
     "execution_count": 21,
     "metadata": {},
     "output_type": "execute_result"
    }
   ],
   "source": [
    "import os\n",
    "os.path\n",
    "#help(open)"
   ]
  },
  {
   "cell_type": "markdown",
   "metadata": {},
   "source": [
    "## 3.2.4: Computing Word Frequency Statistics"
   ]
  },
  {
   "cell_type": "code",
   "execution_count": 22,
   "metadata": {},
   "outputs": [
    {
     "name": "stdout",
     "output_type": "stream",
     "text": [
      "5118 40776\n",
      "7527 20311\n"
     ]
    }
   ],
   "source": [
    "#mean and variance of each word\n",
    "def word_stats(word_counts):\n",
    "    \"\"\"return number of unique words and word frequencies\"\"\"\n",
    "    num_unique=len(word_counts)\n",
    "    counts=word_counts.values()\n",
    "    return(num_unique,counts)\n",
    "#print(counts)\n",
    "text=read_book('/Users/huangchenchen/Desktop/edx_python_research/books/English/shakespeare/Romeo and Juliet.txt')\n",
    "word_counts=count_words(text)\n",
    "(num_unique,counts)=word_stats(word_counts)\n",
    "print(num_unique,sum(counts))\n",
    "\n",
    "text=read_book('/Users/huangchenchen/Desktop/edx_python_research/books/German/shakespeare/Romeo und Julia.txt')\n",
    "word_counts=count_words(text)\n",
    "(num_unique,counts)=word_stats(word_counts)\n",
    "print(num_unique,sum(counts))"
   ]
  },
  {
   "cell_type": "markdown",
   "metadata": {},
   "source": [
    "## 3.2.5: Reading Multiple Files"
   ]
  },
  {
   "cell_type": "code",
   "execution_count": 23,
   "metadata": {},
   "outputs": [
    {
     "data": {
      "text/plain": [
       "'/Users/huangchenchen'"
      ]
     },
     "execution_count": 23,
     "metadata": {},
     "output_type": "execute_result"
    }
   ],
   "source": [
    "pwd"
   ]
  },
  {
   "cell_type": "code",
   "execution_count": 24,
   "metadata": {
    "collapsed": true
   },
   "outputs": [],
   "source": [
    "#pandas library, manipulating numerical tables and time series data\n",
    "import pandas as pd\n",
    "table = pd.DataFrame(columns=('name','age'))"
   ]
  },
  {
   "cell_type": "code",
   "execution_count": 25,
   "metadata": {
    "collapsed": true
   },
   "outputs": [],
   "source": [
    "table.loc[1]='James',22 #row 1 of the table\n",
    "table.loc[2]='Jess',23 \n",
    "# the loc is the method to insert a row to a dataframe"
   ]
  },
  {
   "cell_type": "code",
   "execution_count": 26,
   "metadata": {},
   "outputs": [
    {
     "data": {
      "text/html": [
       "<div>\n",
       "<style>\n",
       "    .dataframe thead tr:only-child th {\n",
       "        text-align: right;\n",
       "    }\n",
       "\n",
       "    .dataframe thead th {\n",
       "        text-align: left;\n",
       "    }\n",
       "\n",
       "    .dataframe tbody tr th {\n",
       "        vertical-align: top;\n",
       "    }\n",
       "</style>\n",
       "<table border=\"1\" class=\"dataframe\">\n",
       "  <thead>\n",
       "    <tr style=\"text-align: right;\">\n",
       "      <th></th>\n",
       "      <th>name</th>\n",
       "      <th>age</th>\n",
       "    </tr>\n",
       "  </thead>\n",
       "  <tbody>\n",
       "    <tr>\n",
       "      <th>1</th>\n",
       "      <td>James</td>\n",
       "      <td>22</td>\n",
       "    </tr>\n",
       "    <tr>\n",
       "      <th>2</th>\n",
       "      <td>Jess</td>\n",
       "      <td>23</td>\n",
       "    </tr>\n",
       "  </tbody>\n",
       "</table>\n",
       "</div>"
      ],
      "text/plain": [
       "    name age\n",
       "1  James  22\n",
       "2   Jess  23"
      ]
     },
     "execution_count": 26,
     "metadata": {},
     "output_type": "execute_result"
    }
   ],
   "source": [
    "table"
   ]
  },
  {
   "cell_type": "code",
   "execution_count": 27,
   "metadata": {},
   "outputs": [
    {
     "data": {
      "text/plain": [
       "Index(['name', 'age'], dtype='object')"
      ]
     },
     "execution_count": 27,
     "metadata": {},
     "output_type": "execute_result"
    }
   ],
   "source": [
    "table.columns"
   ]
  },
  {
   "cell_type": "code",
   "execution_count": 28,
   "metadata": {},
   "outputs": [
    {
     "name": "stdout",
     "output_type": "stream",
     "text": [
      "/Users/huangchenchen/Desktop/edx_python_research/books/English/shakespeare/A Midsummer Night's Dream.txt\n",
      "/Users/huangchenchen/Desktop/edx_python_research/books/English/shakespeare/Hamlet.txt\n",
      "/Users/huangchenchen/Desktop/edx_python_research/books/English/shakespeare/Macbeth.txt\n",
      "/Users/huangchenchen/Desktop/edx_python_research/books/English/shakespeare/Othello.txt\n",
      "/Users/huangchenchen/Desktop/edx_python_research/books/English/shakespeare/Richard III.txt\n",
      "/Users/huangchenchen/Desktop/edx_python_research/books/English/shakespeare/Romeo and Juliet.txt\n",
      "/Users/huangchenchen/Desktop/edx_python_research/books/English/shakespeare/The Merchant of Venice.txt\n",
      "/Users/huangchenchen/Desktop/edx_python_research/books/French/de Maupassant/Boule de Suif.txt\n",
      "/Users/huangchenchen/Desktop/edx_python_research/books/French/de Maupassant/Claire de Lune.txt\n",
      "/Users/huangchenchen/Desktop/edx_python_research/books/French/de Maupassant/Contes de la Becasse.txt\n",
      "/Users/huangchenchen/Desktop/edx_python_research/books/French/de Maupassant/L'inutile beautÇ.txt\n",
      "/Users/huangchenchen/Desktop/edx_python_research/books/French/de Maupassant/La Main Gauche.txt\n",
      "/Users/huangchenchen/Desktop/edx_python_research/books/French/de Maupassant/La Maison Tellier.txt\n",
      "/Users/huangchenchen/Desktop/edx_python_research/books/French/de Maupassant/La petite roque.txt\n",
      "/Users/huangchenchen/Desktop/edx_python_research/books/French/de Maupassant/Le Horla.txt\n",
      "/Users/huangchenchen/Desktop/edx_python_research/books/French/de Maupassant/Œuvres complètes de Guy de Maupassant.txt\n",
      "/Users/huangchenchen/Desktop/edx_python_research/books/French/diderot/Ceci n'est pas un conte.txt\n",
      "/Users/huangchenchen/Desktop/edx_python_research/books/French/diderot/Entretien d'un päre avec ses enfants.txt\n",
      "/Users/huangchenchen/Desktop/edx_python_research/books/French/diderot/L'oiseau blanc.txt\n",
      "/Users/huangchenchen/Desktop/edx_python_research/books/French/diderot/Les deux amis de Bourbonne.txt\n",
      "/Users/huangchenchen/Desktop/edx_python_research/books/French/diderot/Regrets sur ma vieille robe de chambre.txt\n",
      "/Users/huangchenchen/Desktop/edx_python_research/books/French/sand/cora.txt\n",
      "/Users/huangchenchen/Desktop/edx_python_research/books/French/sand/Jacques le fataliste et son maåtre.txt\n",
      "/Users/huangchenchen/Desktop/edx_python_research/books/French/sand/L' Orco.txt\n",
      "/Users/huangchenchen/Desktop/edx_python_research/books/French/sand/La Coupe; Lupo Liverani; Le Toast; Garnier; Le Contrebandier; La Ràverie Ö Paris.txt\n",
      "/Users/huangchenchen/Desktop/edx_python_research/books/French/sand/La Marquise.txt\n",
      "/Users/huangchenchen/Desktop/edx_python_research/books/French/sand/Le Piccinino.txt\n",
      "/Users/huangchenchen/Desktop/edx_python_research/books/French/sand/Le poâme de Myrza.txt\n",
      "/Users/huangchenchen/Desktop/edx_python_research/books/French/sand/Mattea.txt\n",
      "/Users/huangchenchen/Desktop/edx_python_research/books/French/sand/Metella.txt\n",
      "/Users/huangchenchen/Desktop/edx_python_research/books/French/sand/Oeuvres illustrÇes de George Sand.txt\n",
      "/Users/huangchenchen/Desktop/edx_python_research/books/French/sand/Pauline.txt\n",
      "/Users/huangchenchen/Desktop/edx_python_research/books/German/lessing/der freigeist.txt\n",
      "/Users/huangchenchen/Desktop/edx_python_research/books/German/lessing/der junge gelehrte.txt\n",
      "/Users/huangchenchen/Desktop/edx_python_research/books/German/lessing/die juden.txt\n",
      "/Users/huangchenchen/Desktop/edx_python_research/books/German/lessing/emilia galotti.txt\n",
      "/Users/huangchenchen/Desktop/edx_python_research/books/German/lessing/hamburgische dramaturgie.txt\n",
      "/Users/huangchenchen/Desktop/edx_python_research/books/German/lessing/minna von barnhelm.txt\n",
      "/Users/huangchenchen/Desktop/edx_python_research/books/German/lessing/miss sara sampson.txt\n",
      "/Users/huangchenchen/Desktop/edx_python_research/books/German/lessing/philotas.txt\n",
      "/Users/huangchenchen/Desktop/edx_python_research/books/German/raimund/Das MÑdchen aus der Feenwelt.txt\n",
      "/Users/huangchenchen/Desktop/edx_python_research/books/German/raimund/Der Alpenkînig und der Menschenfeind.txt\n",
      "/Users/huangchenchen/Desktop/edx_python_research/books/German/raimund/Der Barometermacher auf der Zauberinsel.txt\n",
      "/Users/huangchenchen/Desktop/edx_python_research/books/German/raimund/Der Diamant des Geisterkînigs.txt\n",
      "/Users/huangchenchen/Desktop/edx_python_research/books/German/raimund/Der Verschwender.txt\n",
      "/Users/huangchenchen/Desktop/edx_python_research/books/German/raimund/Die gefesselte Phantasie.txt\n",
      "/Users/huangchenchen/Desktop/edx_python_research/books/German/raimund/Die unheilbringende Krone.txt\n",
      "/Users/huangchenchen/Desktop/edx_python_research/books/German/raimund/Moisasurs Zauberfluch.txt\n",
      "/Users/huangchenchen/Desktop/edx_python_research/books/German/schiller/Der Neffe als Onkel.txt\n",
      "/Users/huangchenchen/Desktop/edx_python_research/books/German/schiller/Der Parasit, oder die Kunst, sein GlÅck zu machen.txt\n",
      "/Users/huangchenchen/Desktop/edx_python_research/books/German/schiller/die braut von messina.txt\n",
      "/Users/huangchenchen/Desktop/edx_python_research/books/German/schiller/Die Huldigung der KÅnste.txt\n",
      "/Users/huangchenchen/Desktop/edx_python_research/books/German/schiller/Die Jungfrau von Orleans.txt\n",
      "/Users/huangchenchen/Desktop/edx_python_research/books/German/schiller/Die Piccolomini.txt\n",
      "/Users/huangchenchen/Desktop/edx_python_research/books/German/schiller/Die Verschwîrung des Fiesco zu Genua.txt\n",
      "/Users/huangchenchen/Desktop/edx_python_research/books/German/schiller/Kabale und Liebe.txt\n",
      "/Users/huangchenchen/Desktop/edx_python_research/books/German/schiller/Turandot, Prinzessin von China.txt\n",
      "/Users/huangchenchen/Desktop/edx_python_research/books/German/schiller/Wallensteins Lager.txt\n",
      "/Users/huangchenchen/Desktop/edx_python_research/books/German/schiller/Wallensteins Tod.txt\n",
      "/Users/huangchenchen/Desktop/edx_python_research/books/German/shakespeare/Der Kaufmann von Venedig.txt\n",
      "/Users/huangchenchen/Desktop/edx_python_research/books/German/shakespeare/Ein Sommernachtstraum.txt\n",
      "/Users/huangchenchen/Desktop/edx_python_research/books/German/shakespeare/Hamlet.txt\n",
      "/Users/huangchenchen/Desktop/edx_python_research/books/German/shakespeare/Macbeth.txt\n",
      "/Users/huangchenchen/Desktop/edx_python_research/books/German/shakespeare/Othello.txt\n",
      "/Users/huangchenchen/Desktop/edx_python_research/books/German/shakespeare/Richard III.txt\n",
      "/Users/huangchenchen/Desktop/edx_python_research/books/German/shakespeare/Romeo und Julia.txt\n",
      "/Users/huangchenchen/Desktop/edx_python_research/books/Portuguese/dinis/A Morgadinha dos Cannaviaes.txt\n",
      "/Users/huangchenchen/Desktop/edx_python_research/books/Portuguese/dinis/Os fidalgos da Casa Mourisca.txt\n",
      "/Users/huangchenchen/Desktop/edx_python_research/books/Portuguese/dinis/Uma fam°lia ingleza.txt\n",
      "/Users/huangchenchen/Desktop/edx_python_research/books/Portuguese/Queir¢s/A Cidade e as Serras.txt\n",
      "/Users/huangchenchen/Desktop/edx_python_research/books/Portuguese/Queir¢s/A correspondància de Fradique Mendes.txt\n",
      "/Users/huangchenchen/Desktop/edx_python_research/books/Portuguese/Queir¢s/A Illustre Casa de Ramires.txt\n",
      "/Users/huangchenchen/Desktop/edx_python_research/books/Portuguese/Queir¢s/A Rel°quia.txt\n",
      "/Users/huangchenchen/Desktop/edx_python_research/books/Portuguese/Queir¢s/Cartas de Inglaterra.txt\n",
      "/Users/huangchenchen/Desktop/edx_python_research/books/Portuguese/Queir¢s/O crime do padre Amaro.txt\n",
      "/Users/huangchenchen/Desktop/edx_python_research/books/Portuguese/Queir¢s/O Mandarim.txt\n",
      "/Users/huangchenchen/Desktop/edx_python_research/books/Portuguese/Queir¢s/O Primo Bazilio.txt\n",
      "/Users/huangchenchen/Desktop/edx_python_research/books/Portuguese/Queir¢s/Os Maias.txt\n",
      "/Users/huangchenchen/Desktop/edx_python_research/books/Portuguese/shakespeare/Hamlet.txt\n"
     ]
    }
   ],
   "source": [
    "import os\n",
    "book_dir =\"/Users/huangchenchen/Desktop/edx_python_research/books\"\n",
    "\n",
    "import pandas as pd\n",
    "stats =pd.DataFrame(columns=('language','author','title','length','unique'))\n",
    "\n",
    "for language in os.listdir(book_dir)[1:]:\n",
    "    for author in os.listdir(book_dir + '/' + language)[1:]:\n",
    "        for title in os.listdir(book_dir + '/' + language + '/' + author):\n",
    "            inputfile = book_dir + '/' + language + '/' +  author + '/' + title\n",
    "            print(inputfile) #follow python when it loop all your books\n",
    "            text = read_book(inputfile)\n",
    "            (num_unique,counts)= word_stats(count_words(text))"
   ]
  },
  {
   "cell_type": "code",
   "execution_count": 29,
   "metadata": {},
   "outputs": [
    {
     "name": "stdout",
     "output_type": "stream",
     "text": [
      "/Users/huangchenchen/Desktop/edx_python_research/books/English/shakespeare/A Midsummer Night's Dream.txt\n",
      "/Users/huangchenchen/Desktop/edx_python_research/books/English/shakespeare/Hamlet.txt\n",
      "/Users/huangchenchen/Desktop/edx_python_research/books/English/shakespeare/Macbeth.txt\n",
      "/Users/huangchenchen/Desktop/edx_python_research/books/English/shakespeare/Othello.txt\n",
      "/Users/huangchenchen/Desktop/edx_python_research/books/English/shakespeare/Richard III.txt\n",
      "/Users/huangchenchen/Desktop/edx_python_research/books/English/shakespeare/Romeo and Juliet.txt\n",
      "/Users/huangchenchen/Desktop/edx_python_research/books/English/shakespeare/The Merchant of Venice.txt\n",
      "/Users/huangchenchen/Desktop/edx_python_research/books/French/de Maupassant/Boule de Suif.txt\n",
      "/Users/huangchenchen/Desktop/edx_python_research/books/French/de Maupassant/Claire de Lune.txt\n",
      "/Users/huangchenchen/Desktop/edx_python_research/books/French/de Maupassant/Contes de la Becasse.txt\n",
      "/Users/huangchenchen/Desktop/edx_python_research/books/French/de Maupassant/L'inutile beautÇ.txt\n",
      "/Users/huangchenchen/Desktop/edx_python_research/books/French/de Maupassant/La Main Gauche.txt\n",
      "/Users/huangchenchen/Desktop/edx_python_research/books/French/de Maupassant/La Maison Tellier.txt\n",
      "/Users/huangchenchen/Desktop/edx_python_research/books/French/de Maupassant/La petite roque.txt\n",
      "/Users/huangchenchen/Desktop/edx_python_research/books/French/de Maupassant/Le Horla.txt\n",
      "/Users/huangchenchen/Desktop/edx_python_research/books/French/de Maupassant/Œuvres complètes de Guy de Maupassant.txt\n",
      "/Users/huangchenchen/Desktop/edx_python_research/books/French/diderot/Ceci n'est pas un conte.txt\n",
      "/Users/huangchenchen/Desktop/edx_python_research/books/French/diderot/Entretien d'un päre avec ses enfants.txt\n",
      "/Users/huangchenchen/Desktop/edx_python_research/books/French/diderot/L'oiseau blanc.txt\n",
      "/Users/huangchenchen/Desktop/edx_python_research/books/French/diderot/Les deux amis de Bourbonne.txt\n",
      "/Users/huangchenchen/Desktop/edx_python_research/books/French/diderot/Regrets sur ma vieille robe de chambre.txt\n",
      "/Users/huangchenchen/Desktop/edx_python_research/books/French/sand/cora.txt\n",
      "/Users/huangchenchen/Desktop/edx_python_research/books/French/sand/Jacques le fataliste et son maåtre.txt\n",
      "/Users/huangchenchen/Desktop/edx_python_research/books/French/sand/L' Orco.txt\n",
      "/Users/huangchenchen/Desktop/edx_python_research/books/French/sand/La Coupe; Lupo Liverani; Le Toast; Garnier; Le Contrebandier; La Ràverie Ö Paris.txt\n",
      "/Users/huangchenchen/Desktop/edx_python_research/books/French/sand/La Marquise.txt\n",
      "/Users/huangchenchen/Desktop/edx_python_research/books/French/sand/Le Piccinino.txt\n",
      "/Users/huangchenchen/Desktop/edx_python_research/books/French/sand/Le poâme de Myrza.txt\n",
      "/Users/huangchenchen/Desktop/edx_python_research/books/French/sand/Mattea.txt\n",
      "/Users/huangchenchen/Desktop/edx_python_research/books/French/sand/Metella.txt\n",
      "/Users/huangchenchen/Desktop/edx_python_research/books/French/sand/Oeuvres illustrÇes de George Sand.txt\n",
      "/Users/huangchenchen/Desktop/edx_python_research/books/French/sand/Pauline.txt\n",
      "/Users/huangchenchen/Desktop/edx_python_research/books/German/lessing/der freigeist.txt\n",
      "/Users/huangchenchen/Desktop/edx_python_research/books/German/lessing/der junge gelehrte.txt\n",
      "/Users/huangchenchen/Desktop/edx_python_research/books/German/lessing/die juden.txt\n",
      "/Users/huangchenchen/Desktop/edx_python_research/books/German/lessing/emilia galotti.txt\n",
      "/Users/huangchenchen/Desktop/edx_python_research/books/German/lessing/hamburgische dramaturgie.txt\n",
      "/Users/huangchenchen/Desktop/edx_python_research/books/German/lessing/minna von barnhelm.txt\n",
      "/Users/huangchenchen/Desktop/edx_python_research/books/German/lessing/miss sara sampson.txt\n",
      "/Users/huangchenchen/Desktop/edx_python_research/books/German/lessing/philotas.txt\n",
      "/Users/huangchenchen/Desktop/edx_python_research/books/German/raimund/Das MÑdchen aus der Feenwelt.txt\n",
      "/Users/huangchenchen/Desktop/edx_python_research/books/German/raimund/Der Alpenkînig und der Menschenfeind.txt\n",
      "/Users/huangchenchen/Desktop/edx_python_research/books/German/raimund/Der Barometermacher auf der Zauberinsel.txt\n",
      "/Users/huangchenchen/Desktop/edx_python_research/books/German/raimund/Der Diamant des Geisterkînigs.txt\n",
      "/Users/huangchenchen/Desktop/edx_python_research/books/German/raimund/Der Verschwender.txt\n",
      "/Users/huangchenchen/Desktop/edx_python_research/books/German/raimund/Die gefesselte Phantasie.txt\n",
      "/Users/huangchenchen/Desktop/edx_python_research/books/German/raimund/Die unheilbringende Krone.txt\n",
      "/Users/huangchenchen/Desktop/edx_python_research/books/German/raimund/Moisasurs Zauberfluch.txt\n",
      "/Users/huangchenchen/Desktop/edx_python_research/books/German/schiller/Der Neffe als Onkel.txt\n",
      "/Users/huangchenchen/Desktop/edx_python_research/books/German/schiller/Der Parasit, oder die Kunst, sein GlÅck zu machen.txt\n",
      "/Users/huangchenchen/Desktop/edx_python_research/books/German/schiller/die braut von messina.txt\n",
      "/Users/huangchenchen/Desktop/edx_python_research/books/German/schiller/Die Huldigung der KÅnste.txt\n",
      "/Users/huangchenchen/Desktop/edx_python_research/books/German/schiller/Die Jungfrau von Orleans.txt\n",
      "/Users/huangchenchen/Desktop/edx_python_research/books/German/schiller/Die Piccolomini.txt\n",
      "/Users/huangchenchen/Desktop/edx_python_research/books/German/schiller/Die Verschwîrung des Fiesco zu Genua.txt\n",
      "/Users/huangchenchen/Desktop/edx_python_research/books/German/schiller/Kabale und Liebe.txt\n",
      "/Users/huangchenchen/Desktop/edx_python_research/books/German/schiller/Turandot, Prinzessin von China.txt\n",
      "/Users/huangchenchen/Desktop/edx_python_research/books/German/schiller/Wallensteins Lager.txt\n",
      "/Users/huangchenchen/Desktop/edx_python_research/books/German/schiller/Wallensteins Tod.txt\n",
      "/Users/huangchenchen/Desktop/edx_python_research/books/German/shakespeare/Der Kaufmann von Venedig.txt\n",
      "/Users/huangchenchen/Desktop/edx_python_research/books/German/shakespeare/Ein Sommernachtstraum.txt\n",
      "/Users/huangchenchen/Desktop/edx_python_research/books/German/shakespeare/Hamlet.txt\n",
      "/Users/huangchenchen/Desktop/edx_python_research/books/German/shakespeare/Macbeth.txt\n",
      "/Users/huangchenchen/Desktop/edx_python_research/books/German/shakespeare/Othello.txt\n",
      "/Users/huangchenchen/Desktop/edx_python_research/books/German/shakespeare/Richard III.txt\n",
      "/Users/huangchenchen/Desktop/edx_python_research/books/German/shakespeare/Romeo und Julia.txt\n",
      "/Users/huangchenchen/Desktop/edx_python_research/books/Portuguese/dinis/A Morgadinha dos Cannaviaes.txt\n",
      "/Users/huangchenchen/Desktop/edx_python_research/books/Portuguese/dinis/Os fidalgos da Casa Mourisca.txt\n",
      "/Users/huangchenchen/Desktop/edx_python_research/books/Portuguese/dinis/Uma fam°lia ingleza.txt\n",
      "/Users/huangchenchen/Desktop/edx_python_research/books/Portuguese/Queir¢s/A Cidade e as Serras.txt\n",
      "/Users/huangchenchen/Desktop/edx_python_research/books/Portuguese/Queir¢s/A correspondància de Fradique Mendes.txt\n",
      "/Users/huangchenchen/Desktop/edx_python_research/books/Portuguese/Queir¢s/A Illustre Casa de Ramires.txt\n",
      "/Users/huangchenchen/Desktop/edx_python_research/books/Portuguese/Queir¢s/A Rel°quia.txt\n",
      "/Users/huangchenchen/Desktop/edx_python_research/books/Portuguese/Queir¢s/Cartas de Inglaterra.txt\n",
      "/Users/huangchenchen/Desktop/edx_python_research/books/Portuguese/Queir¢s/O crime do padre Amaro.txt\n",
      "/Users/huangchenchen/Desktop/edx_python_research/books/Portuguese/Queir¢s/O Mandarim.txt\n",
      "/Users/huangchenchen/Desktop/edx_python_research/books/Portuguese/Queir¢s/O Primo Bazilio.txt\n",
      "/Users/huangchenchen/Desktop/edx_python_research/books/Portuguese/Queir¢s/Os Maias.txt\n",
      "/Users/huangchenchen/Desktop/edx_python_research/books/Portuguese/shakespeare/Hamlet.txt\n"
     ]
    }
   ],
   "source": [
    "#stats table: head and tail of the table\n",
    "import os\n",
    "book_dir =\"/Users/huangchenchen/Desktop/edx_python_research/books\"\n",
    "\n",
    "import pandas as pd\n",
    "#utilzie panda to define a fataframe/table\n",
    "stats = pd.DataFrame(columns=('language','author','title','length','unique'))\n",
    "title_num=1\n",
    "\n",
    "#def listdir_nohidden(path):\n",
    "    #for f in os.listdir(path):\n",
    "      #  if not f.startswith('.'):\n",
    "           # yield f\n",
    "\n",
    "#import glob\n",
    "#glob.glob('*')\n",
    "for language in os.listdir(book_dir)[1:]:\n",
    "    for author in os.listdir(book_dir + '/' + language)[1:]:\n",
    "        for title in os.listdir(book_dir + '/' + language + '/' + author):\n",
    "            inputfile = book_dir + '/' + language + '/' + author + '/' + title\n",
    "            print(inputfile) #follow python when it loop all your books\n",
    "            text = read_book(inputfile)\n",
    "\n",
    "            (num_unique,counts)= word_stats(count_words(text))\n",
    "            stats.loc[title_num]=language,author.capitalize(),title.replace('.txt',''),sum(counts),num_unique\n",
    "    #author is capitalized and the txt extension is removed\n",
    "            title_num +=1\n",
    "#increase a numerical title_num value by 1\n"
   ]
  },
  {
   "cell_type": "code",
   "execution_count": 30,
   "metadata": {},
   "outputs": [
    {
     "name": "stdout",
     "output_type": "stream",
     "text": [
      "['English', 'French', 'German', 'Portuguese']\n",
      "['dinis', 'Queir¢s', 'shakespeare']\n"
     ]
    }
   ],
   "source": [
    "#debug of the DS.store\n",
    "print(os.listdir(book_dir)[1:])\n",
    "print(os.listdir(book_dir + '/' + language)[1:])\n",
    "#os.listdir(book_dir + '/' + language + '/' + author)"
   ]
  },
  {
   "cell_type": "code",
   "execution_count": 31,
   "metadata": {},
   "outputs": [
    {
     "data": {
      "text/plain": [
       "['Hamlet.txt']"
      ]
     },
     "execution_count": 31,
     "metadata": {},
     "output_type": "execute_result"
    }
   ],
   "source": [
    "os.listdir(book_dir + '/' + language + '/' + author)"
   ]
  },
  {
   "cell_type": "code",
   "execution_count": 32,
   "metadata": {},
   "outputs": [
    {
     "data": {
      "text/html": [
       "<div>\n",
       "<style>\n",
       "    .dataframe thead tr:only-child th {\n",
       "        text-align: right;\n",
       "    }\n",
       "\n",
       "    .dataframe thead th {\n",
       "        text-align: left;\n",
       "    }\n",
       "\n",
       "    .dataframe tbody tr th {\n",
       "        vertical-align: top;\n",
       "    }\n",
       "</style>\n",
       "<table border=\"1\" class=\"dataframe\">\n",
       "  <thead>\n",
       "    <tr style=\"text-align: right;\">\n",
       "      <th></th>\n",
       "      <th>language</th>\n",
       "      <th>author</th>\n",
       "      <th>title</th>\n",
       "      <th>length</th>\n",
       "      <th>unique</th>\n",
       "    </tr>\n",
       "  </thead>\n",
       "  <tbody>\n",
       "    <tr>\n",
       "      <th>1</th>\n",
       "      <td>English</td>\n",
       "      <td>Shakespeare</td>\n",
       "      <td>A Midsummer Night's Dream</td>\n",
       "      <td>16103</td>\n",
       "      <td>4345</td>\n",
       "    </tr>\n",
       "    <tr>\n",
       "      <th>2</th>\n",
       "      <td>English</td>\n",
       "      <td>Shakespeare</td>\n",
       "      <td>Hamlet</td>\n",
       "      <td>28551</td>\n",
       "      <td>6776</td>\n",
       "    </tr>\n",
       "    <tr>\n",
       "      <th>3</th>\n",
       "      <td>English</td>\n",
       "      <td>Shakespeare</td>\n",
       "      <td>Macbeth</td>\n",
       "      <td>16874</td>\n",
       "      <td>4780</td>\n",
       "    </tr>\n",
       "    <tr>\n",
       "      <th>4</th>\n",
       "      <td>English</td>\n",
       "      <td>Shakespeare</td>\n",
       "      <td>Othello</td>\n",
       "      <td>26590</td>\n",
       "      <td>5898</td>\n",
       "    </tr>\n",
       "    <tr>\n",
       "      <th>5</th>\n",
       "      <td>English</td>\n",
       "      <td>Shakespeare</td>\n",
       "      <td>Richard III</td>\n",
       "      <td>48315</td>\n",
       "      <td>5449</td>\n",
       "    </tr>\n",
       "    <tr>\n",
       "      <th>6</th>\n",
       "      <td>English</td>\n",
       "      <td>Shakespeare</td>\n",
       "      <td>Romeo and Juliet</td>\n",
       "      <td>40776</td>\n",
       "      <td>5118</td>\n",
       "    </tr>\n",
       "    <tr>\n",
       "      <th>7</th>\n",
       "      <td>English</td>\n",
       "      <td>Shakespeare</td>\n",
       "      <td>The Merchant of Venice</td>\n",
       "      <td>20949</td>\n",
       "      <td>4978</td>\n",
       "    </tr>\n",
       "    <tr>\n",
       "      <th>8</th>\n",
       "      <td>French</td>\n",
       "      <td>De maupassant</td>\n",
       "      <td>Boule de Suif</td>\n",
       "      <td>35905</td>\n",
       "      <td>10725</td>\n",
       "    </tr>\n",
       "    <tr>\n",
       "      <th>9</th>\n",
       "      <td>French</td>\n",
       "      <td>De maupassant</td>\n",
       "      <td>Claire de Lune</td>\n",
       "      <td>25975</td>\n",
       "      <td>8076</td>\n",
       "    </tr>\n",
       "    <tr>\n",
       "      <th>10</th>\n",
       "      <td>French</td>\n",
       "      <td>De maupassant</td>\n",
       "      <td>Contes de la Becasse</td>\n",
       "      <td>34723</td>\n",
       "      <td>10210</td>\n",
       "    </tr>\n",
       "    <tr>\n",
       "      <th>11</th>\n",
       "      <td>French</td>\n",
       "      <td>De maupassant</td>\n",
       "      <td>L'inutile beautÇ</td>\n",
       "      <td>37840</td>\n",
       "      <td>10781</td>\n",
       "    </tr>\n",
       "    <tr>\n",
       "      <th>12</th>\n",
       "      <td>French</td>\n",
       "      <td>De maupassant</td>\n",
       "      <td>La Main Gauche</td>\n",
       "      <td>33481</td>\n",
       "      <td>9983</td>\n",
       "    </tr>\n",
       "    <tr>\n",
       "      <th>13</th>\n",
       "      <td>French</td>\n",
       "      <td>De maupassant</td>\n",
       "      <td>La Maison Tellier</td>\n",
       "      <td>43685</td>\n",
       "      <td>12305</td>\n",
       "    </tr>\n",
       "    <tr>\n",
       "      <th>14</th>\n",
       "      <td>French</td>\n",
       "      <td>De maupassant</td>\n",
       "      <td>La petite roque</td>\n",
       "      <td>40688</td>\n",
       "      <td>10890</td>\n",
       "    </tr>\n",
       "    <tr>\n",
       "      <th>15</th>\n",
       "      <td>French</td>\n",
       "      <td>De maupassant</td>\n",
       "      <td>Le Horla</td>\n",
       "      <td>41485</td>\n",
       "      <td>11091</td>\n",
       "    </tr>\n",
       "    <tr>\n",
       "      <th>16</th>\n",
       "      <td>French</td>\n",
       "      <td>De maupassant</td>\n",
       "      <td>Œuvres complètes de Guy de Maupassant</td>\n",
       "      <td>54772</td>\n",
       "      <td>15028</td>\n",
       "    </tr>\n",
       "    <tr>\n",
       "      <th>17</th>\n",
       "      <td>French</td>\n",
       "      <td>Diderot</td>\n",
       "      <td>Ceci n'est pas un conte</td>\n",
       "      <td>10938</td>\n",
       "      <td>3674</td>\n",
       "    </tr>\n",
       "    <tr>\n",
       "      <th>18</th>\n",
       "      <td>French</td>\n",
       "      <td>Diderot</td>\n",
       "      <td>Entretien d'un päre avec ses enfants</td>\n",
       "      <td>11125</td>\n",
       "      <td>3720</td>\n",
       "    </tr>\n",
       "    <tr>\n",
       "      <th>19</th>\n",
       "      <td>French</td>\n",
       "      <td>Diderot</td>\n",
       "      <td>L'oiseau blanc</td>\n",
       "      <td>21973</td>\n",
       "      <td>6337</td>\n",
       "    </tr>\n",
       "    <tr>\n",
       "      <th>20</th>\n",
       "      <td>French</td>\n",
       "      <td>Diderot</td>\n",
       "      <td>Les deux amis de Bourbonne</td>\n",
       "      <td>8510</td>\n",
       "      <td>2929</td>\n",
       "    </tr>\n",
       "    <tr>\n",
       "      <th>21</th>\n",
       "      <td>French</td>\n",
       "      <td>Diderot</td>\n",
       "      <td>Regrets sur ma vieille robe de chambre</td>\n",
       "      <td>4980</td>\n",
       "      <td>1876</td>\n",
       "    </tr>\n",
       "    <tr>\n",
       "      <th>22</th>\n",
       "      <td>French</td>\n",
       "      <td>Sand</td>\n",
       "      <td>cora</td>\n",
       "      <td>12370</td>\n",
       "      <td>4370</td>\n",
       "    </tr>\n",
       "    <tr>\n",
       "      <th>23</th>\n",
       "      <td>French</td>\n",
       "      <td>Sand</td>\n",
       "      <td>Jacques le fataliste et son maåtre</td>\n",
       "      <td>85756</td>\n",
       "      <td>18744</td>\n",
       "    </tr>\n",
       "    <tr>\n",
       "      <th>24</th>\n",
       "      <td>French</td>\n",
       "      <td>Sand</td>\n",
       "      <td>L' Orco</td>\n",
       "      <td>8748</td>\n",
       "      <td>3162</td>\n",
       "    </tr>\n",
       "    <tr>\n",
       "      <th>25</th>\n",
       "      <td>French</td>\n",
       "      <td>Sand</td>\n",
       "      <td>La Coupe; Lupo Liverani; Le Toast; Garnier; Le...</td>\n",
       "      <td>47831</td>\n",
       "      <td>12540</td>\n",
       "    </tr>\n",
       "    <tr>\n",
       "      <th>26</th>\n",
       "      <td>French</td>\n",
       "      <td>Sand</td>\n",
       "      <td>La Marquise</td>\n",
       "      <td>14716</td>\n",
       "      <td>4786</td>\n",
       "    </tr>\n",
       "    <tr>\n",
       "      <th>27</th>\n",
       "      <td>French</td>\n",
       "      <td>Sand</td>\n",
       "      <td>Le Piccinino</td>\n",
       "      <td>151405</td>\n",
       "      <td>27435</td>\n",
       "    </tr>\n",
       "    <tr>\n",
       "      <th>28</th>\n",
       "      <td>French</td>\n",
       "      <td>Sand</td>\n",
       "      <td>Le poâme de Myrza</td>\n",
       "      <td>12771</td>\n",
       "      <td>4348</td>\n",
       "    </tr>\n",
       "    <tr>\n",
       "      <th>29</th>\n",
       "      <td>French</td>\n",
       "      <td>Sand</td>\n",
       "      <td>Mattea</td>\n",
       "      <td>21089</td>\n",
       "      <td>6429</td>\n",
       "    </tr>\n",
       "    <tr>\n",
       "      <th>30</th>\n",
       "      <td>French</td>\n",
       "      <td>Sand</td>\n",
       "      <td>Metella</td>\n",
       "      <td>19600</td>\n",
       "      <td>5715</td>\n",
       "    </tr>\n",
       "    <tr>\n",
       "      <th>...</th>\n",
       "      <td>...</td>\n",
       "      <td>...</td>\n",
       "      <td>...</td>\n",
       "      <td>...</td>\n",
       "      <td>...</td>\n",
       "    </tr>\n",
       "    <tr>\n",
       "      <th>50</th>\n",
       "      <td>German</td>\n",
       "      <td>Schiller</td>\n",
       "      <td>Der Parasit, oder die Kunst, sein GlÅck zu ma...</td>\n",
       "      <td>20450</td>\n",
       "      <td>6159</td>\n",
       "    </tr>\n",
       "    <tr>\n",
       "      <th>51</th>\n",
       "      <td>German</td>\n",
       "      <td>Schiller</td>\n",
       "      <td>die braut von messina</td>\n",
       "      <td>26482</td>\n",
       "      <td>6655</td>\n",
       "    </tr>\n",
       "    <tr>\n",
       "      <th>52</th>\n",
       "      <td>German</td>\n",
       "      <td>Schiller</td>\n",
       "      <td>Die Huldigung der KÅnste</td>\n",
       "      <td>3919</td>\n",
       "      <td>1730</td>\n",
       "    </tr>\n",
       "    <tr>\n",
       "      <th>53</th>\n",
       "      <td>German</td>\n",
       "      <td>Schiller</td>\n",
       "      <td>Die Jungfrau von Orleans</td>\n",
       "      <td>24181</td>\n",
       "      <td>8806</td>\n",
       "    </tr>\n",
       "    <tr>\n",
       "      <th>54</th>\n",
       "      <td>German</td>\n",
       "      <td>Schiller</td>\n",
       "      <td>Die Piccolomini</td>\n",
       "      <td>35456</td>\n",
       "      <td>6763</td>\n",
       "    </tr>\n",
       "    <tr>\n",
       "      <th>55</th>\n",
       "      <td>German</td>\n",
       "      <td>Schiller</td>\n",
       "      <td>Die Verschwîrung des Fiesco zu Genua</td>\n",
       "      <td>31128</td>\n",
       "      <td>10371</td>\n",
       "    </tr>\n",
       "    <tr>\n",
       "      <th>56</th>\n",
       "      <td>German</td>\n",
       "      <td>Schiller</td>\n",
       "      <td>Kabale und Liebe</td>\n",
       "      <td>30929</td>\n",
       "      <td>9969</td>\n",
       "    </tr>\n",
       "    <tr>\n",
       "      <th>57</th>\n",
       "      <td>German</td>\n",
       "      <td>Schiller</td>\n",
       "      <td>Turandot, Prinzessin von China</td>\n",
       "      <td>21441</td>\n",
       "      <td>7550</td>\n",
       "    </tr>\n",
       "    <tr>\n",
       "      <th>58</th>\n",
       "      <td>German</td>\n",
       "      <td>Schiller</td>\n",
       "      <td>Wallensteins Lager</td>\n",
       "      <td>15443</td>\n",
       "      <td>4379</td>\n",
       "    </tr>\n",
       "    <tr>\n",
       "      <th>59</th>\n",
       "      <td>German</td>\n",
       "      <td>Schiller</td>\n",
       "      <td>Wallensteins Tod</td>\n",
       "      <td>50725</td>\n",
       "      <td>8649</td>\n",
       "    </tr>\n",
       "    <tr>\n",
       "      <th>60</th>\n",
       "      <td>German</td>\n",
       "      <td>Shakespeare</td>\n",
       "      <td>Der Kaufmann von Venedig</td>\n",
       "      <td>20600</td>\n",
       "      <td>7121</td>\n",
       "    </tr>\n",
       "    <tr>\n",
       "      <th>61</th>\n",
       "      <td>German</td>\n",
       "      <td>Shakespeare</td>\n",
       "      <td>Ein Sommernachtstraum</td>\n",
       "      <td>16648</td>\n",
       "      <td>6444</td>\n",
       "    </tr>\n",
       "    <tr>\n",
       "      <th>62</th>\n",
       "      <td>German</td>\n",
       "      <td>Shakespeare</td>\n",
       "      <td>Hamlet</td>\n",
       "      <td>31635</td>\n",
       "      <td>9642</td>\n",
       "    </tr>\n",
       "    <tr>\n",
       "      <th>63</th>\n",
       "      <td>German</td>\n",
       "      <td>Shakespeare</td>\n",
       "      <td>Macbeth</td>\n",
       "      <td>19311</td>\n",
       "      <td>6750</td>\n",
       "    </tr>\n",
       "    <tr>\n",
       "      <th>64</th>\n",
       "      <td>German</td>\n",
       "      <td>Shakespeare</td>\n",
       "      <td>Othello</td>\n",
       "      <td>16568</td>\n",
       "      <td>6793</td>\n",
       "    </tr>\n",
       "    <tr>\n",
       "      <th>65</th>\n",
       "      <td>German</td>\n",
       "      <td>Shakespeare</td>\n",
       "      <td>Richard III</td>\n",
       "      <td>25888</td>\n",
       "      <td>9191</td>\n",
       "    </tr>\n",
       "    <tr>\n",
       "      <th>66</th>\n",
       "      <td>German</td>\n",
       "      <td>Shakespeare</td>\n",
       "      <td>Romeo und Julia</td>\n",
       "      <td>20311</td>\n",
       "      <td>7527</td>\n",
       "    </tr>\n",
       "    <tr>\n",
       "      <th>67</th>\n",
       "      <td>Portuguese</td>\n",
       "      <td>Dinis</td>\n",
       "      <td>A Morgadinha dos Cannaviaes</td>\n",
       "      <td>134382</td>\n",
       "      <td>30728</td>\n",
       "    </tr>\n",
       "    <tr>\n",
       "      <th>68</th>\n",
       "      <td>Portuguese</td>\n",
       "      <td>Dinis</td>\n",
       "      <td>Os fidalgos da Casa Mourisca</td>\n",
       "      <td>130834</td>\n",
       "      <td>27834</td>\n",
       "    </tr>\n",
       "    <tr>\n",
       "      <th>69</th>\n",
       "      <td>Portuguese</td>\n",
       "      <td>Dinis</td>\n",
       "      <td>Uma fam°lia ingleza</td>\n",
       "      <td>109270</td>\n",
       "      <td>26786</td>\n",
       "    </tr>\n",
       "    <tr>\n",
       "      <th>70</th>\n",
       "      <td>Portuguese</td>\n",
       "      <td>Queir¢s</td>\n",
       "      <td>A Cidade e as Serras</td>\n",
       "      <td>65225</td>\n",
       "      <td>19230</td>\n",
       "    </tr>\n",
       "    <tr>\n",
       "      <th>71</th>\n",
       "      <td>Portuguese</td>\n",
       "      <td>Queir¢s</td>\n",
       "      <td>A correspondància de Fradique Mendes</td>\n",
       "      <td>52982</td>\n",
       "      <td>16648</td>\n",
       "    </tr>\n",
       "    <tr>\n",
       "      <th>72</th>\n",
       "      <td>Portuguese</td>\n",
       "      <td>Queir¢s</td>\n",
       "      <td>A Illustre Casa de Ramires</td>\n",
       "      <td>98218</td>\n",
       "      <td>25353</td>\n",
       "    </tr>\n",
       "    <tr>\n",
       "      <th>73</th>\n",
       "      <td>Portuguese</td>\n",
       "      <td>Queir¢s</td>\n",
       "      <td>A Rel°quia</td>\n",
       "      <td>77627</td>\n",
       "      <td>21399</td>\n",
       "    </tr>\n",
       "    <tr>\n",
       "      <th>74</th>\n",
       "      <td>Portuguese</td>\n",
       "      <td>Queir¢s</td>\n",
       "      <td>Cartas de Inglaterra</td>\n",
       "      <td>44293</td>\n",
       "      <td>13898</td>\n",
       "    </tr>\n",
       "    <tr>\n",
       "      <th>75</th>\n",
       "      <td>Portuguese</td>\n",
       "      <td>Queir¢s</td>\n",
       "      <td>O crime do padre Amaro</td>\n",
       "      <td>128630</td>\n",
       "      <td>29300</td>\n",
       "    </tr>\n",
       "    <tr>\n",
       "      <th>76</th>\n",
       "      <td>Portuguese</td>\n",
       "      <td>Queir¢s</td>\n",
       "      <td>O Mandarim</td>\n",
       "      <td>21440</td>\n",
       "      <td>7836</td>\n",
       "    </tr>\n",
       "    <tr>\n",
       "      <th>77</th>\n",
       "      <td>Portuguese</td>\n",
       "      <td>Queir¢s</td>\n",
       "      <td>O Primo Bazilio</td>\n",
       "      <td>107303</td>\n",
       "      <td>27644</td>\n",
       "    </tr>\n",
       "    <tr>\n",
       "      <th>78</th>\n",
       "      <td>Portuguese</td>\n",
       "      <td>Queir¢s</td>\n",
       "      <td>Os Maias</td>\n",
       "      <td>195771</td>\n",
       "      <td>40665</td>\n",
       "    </tr>\n",
       "    <tr>\n",
       "      <th>79</th>\n",
       "      <td>Portuguese</td>\n",
       "      <td>Shakespeare</td>\n",
       "      <td>Hamlet</td>\n",
       "      <td>30567</td>\n",
       "      <td>9700</td>\n",
       "    </tr>\n",
       "  </tbody>\n",
       "</table>\n",
       "<p>79 rows × 5 columns</p>\n",
       "</div>"
      ],
      "text/plain": [
       "      language         author  \\\n",
       "1      English    Shakespeare   \n",
       "2      English    Shakespeare   \n",
       "3      English    Shakespeare   \n",
       "4      English    Shakespeare   \n",
       "5      English    Shakespeare   \n",
       "6      English    Shakespeare   \n",
       "7      English    Shakespeare   \n",
       "8       French  De maupassant   \n",
       "9       French  De maupassant   \n",
       "10      French  De maupassant   \n",
       "11      French  De maupassant   \n",
       "12      French  De maupassant   \n",
       "13      French  De maupassant   \n",
       "14      French  De maupassant   \n",
       "15      French  De maupassant   \n",
       "16      French  De maupassant   \n",
       "17      French        Diderot   \n",
       "18      French        Diderot   \n",
       "19      French        Diderot   \n",
       "20      French        Diderot   \n",
       "21      French        Diderot   \n",
       "22      French           Sand   \n",
       "23      French           Sand   \n",
       "24      French           Sand   \n",
       "25      French           Sand   \n",
       "26      French           Sand   \n",
       "27      French           Sand   \n",
       "28      French           Sand   \n",
       "29      French           Sand   \n",
       "30      French           Sand   \n",
       "..         ...            ...   \n",
       "50      German       Schiller   \n",
       "51      German       Schiller   \n",
       "52      German       Schiller   \n",
       "53      German       Schiller   \n",
       "54      German       Schiller   \n",
       "55      German       Schiller   \n",
       "56      German       Schiller   \n",
       "57      German       Schiller   \n",
       "58      German       Schiller   \n",
       "59      German       Schiller   \n",
       "60      German    Shakespeare   \n",
       "61      German    Shakespeare   \n",
       "62      German    Shakespeare   \n",
       "63      German    Shakespeare   \n",
       "64      German    Shakespeare   \n",
       "65      German    Shakespeare   \n",
       "66      German    Shakespeare   \n",
       "67  Portuguese          Dinis   \n",
       "68  Portuguese          Dinis   \n",
       "69  Portuguese          Dinis   \n",
       "70  Portuguese        Queir¢s   \n",
       "71  Portuguese        Queir¢s   \n",
       "72  Portuguese        Queir¢s   \n",
       "73  Portuguese        Queir¢s   \n",
       "74  Portuguese        Queir¢s   \n",
       "75  Portuguese        Queir¢s   \n",
       "76  Portuguese        Queir¢s   \n",
       "77  Portuguese        Queir¢s   \n",
       "78  Portuguese        Queir¢s   \n",
       "79  Portuguese    Shakespeare   \n",
       "\n",
       "                                                title  length unique  \n",
       "1                           A Midsummer Night's Dream   16103   4345  \n",
       "2                                              Hamlet   28551   6776  \n",
       "3                                             Macbeth   16874   4780  \n",
       "4                                             Othello   26590   5898  \n",
       "5                                         Richard III   48315   5449  \n",
       "6                                    Romeo and Juliet   40776   5118  \n",
       "7                              The Merchant of Venice   20949   4978  \n",
       "8                                       Boule de Suif   35905  10725  \n",
       "9                                      Claire de Lune   25975   8076  \n",
       "10                               Contes de la Becasse   34723  10210  \n",
       "11                                  L'inutile beautÇ   37840  10781  \n",
       "12                                     La Main Gauche   33481   9983  \n",
       "13                                  La Maison Tellier   43685  12305  \n",
       "14                                    La petite roque   40688  10890  \n",
       "15                                           Le Horla   41485  11091  \n",
       "16             Œuvres complètes de Guy de Maupassant   54772  15028  \n",
       "17                            Ceci n'est pas un conte   10938   3674  \n",
       "18              Entretien d'un päre avec ses enfants   11125   3720  \n",
       "19                                     L'oiseau blanc   21973   6337  \n",
       "20                         Les deux amis de Bourbonne    8510   2929  \n",
       "21             Regrets sur ma vieille robe de chambre    4980   1876  \n",
       "22                                               cora   12370   4370  \n",
       "23                Jacques le fataliste et son maåtre   85756  18744  \n",
       "24                                            L' Orco    8748   3162  \n",
       "25  La Coupe; Lupo Liverani; Le Toast; Garnier; Le...   47831  12540  \n",
       "26                                        La Marquise   14716   4786  \n",
       "27                                       Le Piccinino  151405  27435  \n",
       "28                                 Le poâme de Myrza   12771   4348  \n",
       "29                                             Mattea   21089   6429  \n",
       "30                                            Metella   19600   5715  \n",
       "..                                                ...     ...    ...  \n",
       "50  Der Parasit, oder die Kunst, sein GlÅck zu ma...   20450   6159  \n",
       "51                              die braut von messina   26482   6655  \n",
       "52                          Die Huldigung der KÅnste    3919   1730  \n",
       "53                           Die Jungfrau von Orleans   24181   8806  \n",
       "54                                    Die Piccolomini   35456   6763  \n",
       "55              Die Verschwîrung des Fiesco zu Genua   31128  10371  \n",
       "56                                   Kabale und Liebe   30929   9969  \n",
       "57                     Turandot, Prinzessin von China   21441   7550  \n",
       "58                                 Wallensteins Lager   15443   4379  \n",
       "59                                   Wallensteins Tod   50725   8649  \n",
       "60                           Der Kaufmann von Venedig   20600   7121  \n",
       "61                              Ein Sommernachtstraum   16648   6444  \n",
       "62                                             Hamlet   31635   9642  \n",
       "63                                            Macbeth   19311   6750  \n",
       "64                                            Othello   16568   6793  \n",
       "65                                        Richard III   25888   9191  \n",
       "66                                    Romeo und Julia   20311   7527  \n",
       "67                        A Morgadinha dos Cannaviaes  134382  30728  \n",
       "68                       Os fidalgos da Casa Mourisca  130834  27834  \n",
       "69                                Uma fam°lia ingleza  109270  26786  \n",
       "70                               A Cidade e as Serras   65225  19230  \n",
       "71              A correspondància de Fradique Mendes   52982  16648  \n",
       "72                         A Illustre Casa de Ramires   98218  25353  \n",
       "73                                         A Rel°quia   77627  21399  \n",
       "74                               Cartas de Inglaterra   44293  13898  \n",
       "75                             O crime do padre Amaro  128630  29300  \n",
       "76                                         O Mandarim   21440   7836  \n",
       "77                                    O Primo Bazilio  107303  27644  \n",
       "78                                           Os Maias  195771  40665  \n",
       "79                                             Hamlet   30567   9700  \n",
       "\n",
       "[79 rows x 5 columns]"
      ]
     },
     "execution_count": 32,
     "metadata": {},
     "output_type": "execute_result"
    }
   ],
   "source": [
    "stats"
   ]
  },
  {
   "cell_type": "code",
   "execution_count": 12,
   "metadata": {},
   "outputs": [
    {
     "data": {
      "text/html": [
       "<div>\n",
       "<style>\n",
       "    .dataframe thead tr:only-child th {\n",
       "        text-align: right;\n",
       "    }\n",
       "\n",
       "    .dataframe thead th {\n",
       "        text-align: left;\n",
       "    }\n",
       "\n",
       "    .dataframe tbody tr th {\n",
       "        vertical-align: top;\n",
       "    }\n",
       "</style>\n",
       "<table border=\"1\" class=\"dataframe\">\n",
       "  <thead>\n",
       "    <tr style=\"text-align: right;\">\n",
       "      <th></th>\n",
       "      <th>language</th>\n",
       "      <th>author</th>\n",
       "      <th>title</th>\n",
       "      <th>length</th>\n",
       "      <th>unique</th>\n",
       "    </tr>\n",
       "  </thead>\n",
       "  <tbody>\n",
       "  </tbody>\n",
       "</table>\n",
       "</div>"
      ],
      "text/plain": [
       "Empty DataFrame\n",
       "Columns: [language, author, title, length, unique]\n",
       "Index: []"
      ]
     },
     "execution_count": 12,
     "metadata": {},
     "output_type": "execute_result"
    }
   ],
   "source": [
    "stats.head() #top five lines"
   ]
  },
  {
   "cell_type": "code",
   "execution_count": 13,
   "metadata": {},
   "outputs": [
    {
     "data": {
      "text/html": [
       "<div>\n",
       "<style>\n",
       "    .dataframe thead tr:only-child th {\n",
       "        text-align: right;\n",
       "    }\n",
       "\n",
       "    .dataframe thead th {\n",
       "        text-align: left;\n",
       "    }\n",
       "\n",
       "    .dataframe tbody tr th {\n",
       "        vertical-align: top;\n",
       "    }\n",
       "</style>\n",
       "<table border=\"1\" class=\"dataframe\">\n",
       "  <thead>\n",
       "    <tr style=\"text-align: right;\">\n",
       "      <th></th>\n",
       "      <th>language</th>\n",
       "      <th>author</th>\n",
       "      <th>title</th>\n",
       "      <th>length</th>\n",
       "      <th>unique</th>\n",
       "    </tr>\n",
       "  </thead>\n",
       "  <tbody>\n",
       "  </tbody>\n",
       "</table>\n",
       "</div>"
      ],
      "text/plain": [
       "Empty DataFrame\n",
       "Columns: [language, author, title, length, unique]\n",
       "Index: []"
      ]
     },
     "execution_count": 13,
     "metadata": {},
     "output_type": "execute_result"
    }
   ],
   "source": [
    "stats.tail()"
   ]
  },
  {
   "cell_type": "markdown",
   "metadata": {},
   "source": [
    "## 3.2.6: Plotting Book Statistics"
   ]
  },
  {
   "cell_type": "code",
   "execution_count": 33,
   "metadata": {
    "collapsed": true
   },
   "outputs": [],
   "source": [
    "#extract values from panda table\n",
    "a=stats.length"
   ]
  },
  {
   "cell_type": "code",
   "execution_count": 34,
   "metadata": {},
   "outputs": [
    {
     "data": {
      "image/png": "[encoded data removed]",
      "text/plain": [
       "<matplotlib.figure.Figure at 0x1021eab38>"
      ]
     },
     "metadata": {},
     "output_type": "display_data"
    }
   ],
   "source": [
    "import matplotlib.pyplot as plt\n",
    "plt.plot(stats.length,stats.unique,'bo')\n",
    "plt.show()"
   ]
  },
  {
   "cell_type": "code",
   "execution_count": 35,
   "metadata": {},
   "outputs": [
    {
     "data": {
      "image/png": "[encoded data removed]",
      "text/plain": [
       "<matplotlib.figure.Figure at 0x10e194b38>"
      ]
     },
     "metadata": {},
     "output_type": "display_data"
    }
   ],
   "source": [
    "plt.loglog(stats.length,stats.unique,'gs')\n",
    "plt.show()"
   ]
  },
  {
   "cell_type": "code",
   "execution_count": 36,
   "metadata": {},
   "outputs": [
    {
     "data": {
      "text/html": [
       "<div>\n",
       "<style>\n",
       "    .dataframe thead tr:only-child th {\n",
       "        text-align: right;\n",
       "    }\n",
       "\n",
       "    .dataframe thead th {\n",
       "        text-align: left;\n",
       "    }\n",
       "\n",
       "    .dataframe tbody tr th {\n",
       "        vertical-align: top;\n",
       "    }\n",
       "</style>\n",
       "<table border=\"1\" class=\"dataframe\">\n",
       "  <thead>\n",
       "    <tr style=\"text-align: right;\">\n",
       "      <th></th>\n",
       "      <th>language</th>\n",
       "      <th>author</th>\n",
       "      <th>title</th>\n",
       "      <th>length</th>\n",
       "      <th>unique</th>\n",
       "    </tr>\n",
       "  </thead>\n",
       "  <tbody>\n",
       "    <tr>\n",
       "      <th>1</th>\n",
       "      <td>English</td>\n",
       "      <td>Shakespeare</td>\n",
       "      <td>A Midsummer Night's Dream</td>\n",
       "      <td>16103</td>\n",
       "      <td>4345</td>\n",
       "    </tr>\n",
       "    <tr>\n",
       "      <th>2</th>\n",
       "      <td>English</td>\n",
       "      <td>Shakespeare</td>\n",
       "      <td>Hamlet</td>\n",
       "      <td>28551</td>\n",
       "      <td>6776</td>\n",
       "    </tr>\n",
       "    <tr>\n",
       "      <th>3</th>\n",
       "      <td>English</td>\n",
       "      <td>Shakespeare</td>\n",
       "      <td>Macbeth</td>\n",
       "      <td>16874</td>\n",
       "      <td>4780</td>\n",
       "    </tr>\n",
       "    <tr>\n",
       "      <th>4</th>\n",
       "      <td>English</td>\n",
       "      <td>Shakespeare</td>\n",
       "      <td>Othello</td>\n",
       "      <td>26590</td>\n",
       "      <td>5898</td>\n",
       "    </tr>\n",
       "    <tr>\n",
       "      <th>5</th>\n",
       "      <td>English</td>\n",
       "      <td>Shakespeare</td>\n",
       "      <td>Richard III</td>\n",
       "      <td>48315</td>\n",
       "      <td>5449</td>\n",
       "    </tr>\n",
       "    <tr>\n",
       "      <th>6</th>\n",
       "      <td>English</td>\n",
       "      <td>Shakespeare</td>\n",
       "      <td>Romeo and Juliet</td>\n",
       "      <td>40776</td>\n",
       "      <td>5118</td>\n",
       "    </tr>\n",
       "    <tr>\n",
       "      <th>7</th>\n",
       "      <td>English</td>\n",
       "      <td>Shakespeare</td>\n",
       "      <td>The Merchant of Venice</td>\n",
       "      <td>20949</td>\n",
       "      <td>4978</td>\n",
       "    </tr>\n",
       "  </tbody>\n",
       "</table>\n",
       "</div>"
      ],
      "text/plain": [
       "  language       author                      title length unique\n",
       "1  English  Shakespeare  A Midsummer Night's Dream  16103   4345\n",
       "2  English  Shakespeare                     Hamlet  28551   6776\n",
       "3  English  Shakespeare                    Macbeth  16874   4780\n",
       "4  English  Shakespeare                    Othello  26590   5898\n",
       "5  English  Shakespeare                Richard III  48315   5449\n",
       "6  English  Shakespeare           Romeo and Juliet  40776   5118\n",
       "7  English  Shakespeare     The Merchant of Venice  20949   4978"
      ]
     },
     "execution_count": 36,
     "metadata": {},
     "output_type": "execute_result"
    }
   ],
   "source": [
    "stats[stats.language=='English'] #here the stats(dataframe) is similar to the dictionary"
   ]
  },
  {
   "cell_type": "code",
   "execution_count": 38,
   "metadata": {},
   "outputs": [
    {
     "data": {
      "image/png": "[encoded data removed]",
      "text/plain": [
       "<matplotlib.figure.Figure at 0x10e4dfa20>"
      ]
     },
     "metadata": {},
     "output_type": "display_data"
    }
   ],
   "source": [
    "#different colors for different language\n",
    "#html colors\n",
    "import matplotlib.pyplot as plt\n",
    "plt.figure(figsize = (10,10))\n",
    "\n",
    "subset=stats[stats.language=='English']\n",
    "plt.loglog(subset.length,subset.unique,'o',label='English',color='crimson')\n",
    "\n",
    "subset=stats[stats.language=='French']\n",
    "plt.loglog(subset.length,subset.unique,'o',label='French',color='forestgreen')\n",
    "\n",
    "subset=stats[stats.language=='German']\n",
    "plt.loglog(subset.length,subset.unique,'o',label='German',color='orange')\n",
    "\n",
    "subset=stats[stats.language=='Portuguese']\n",
    "plt.loglog(subset.length,subset.unique,'o',label='Portuguese',color='blueviolet')\n",
    "\n",
    "plt.legend()\n",
    "plt.xlabel('Book length')\n",
    "plt.ylabel('number of unique words')\n",
    "plt.show()"
   ]
  },
  {
   "cell_type": "markdown",
   "metadata": {
    "collapsed": true
   },
   "source": [
    "## Homework for Case study 2"
   ]
  },
  {
   "cell_type": "code",
   "execution_count": null,
   "metadata": {
    "collapsed": true
   },
   "outputs": [],
   "source": []
  },
  {
   "cell_type": "code",
   "execution_count": null,
   "metadata": {
    "collapsed": true
   },
   "outputs": [],
   "source": []
  },
  {
   "cell_type": "code",
   "execution_count": null,
   "metadata": {
    "collapsed": true
   },
   "outputs": [],
   "source": []
  },
  {
   "cell_type": "code",
   "execution_count": null,
   "metadata": {
    "collapsed": true
   },
   "outputs": [],
   "source": []
  },
  {
   "cell_type": "code",
   "execution_count": null,
   "metadata": {
    "collapsed": true
   },
   "outputs": [],
   "source": []
  }
 ],
 "metadata": {
  "kernelspec": {
   "display_name": "Python 3",
   "language": "python",
   "name": "python3"
  },
  "language_info": {
   "codemirror_mode": {
    "name": "ipython",
    "version": 3
   },
   "file_extension": ".py",
   "mimetype": "text/x-python",
   "name": "python",
   "nbconvert_exporter": "python",
   "pygments_lexer": "ipython3",
   "version": "3.6.1"
  }
 },
 "nbformat": 4,
 "nbformat_minor": 2
}
